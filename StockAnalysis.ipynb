{
 "cells": [
  {
   "cell_type": "markdown",
   "metadata": {},
   "source": [
    "# HW2"
   ]
  },
  {
   "cell_type": "markdown",
   "metadata": {},
   "source": [
    "### due on 4/23/2017 at 11:59 pm"
   ]
  },
  {
   "cell_type": "markdown",
   "metadata": {},
   "source": [
    "<b>Instructions:</b> Write your answers in the empty code cells below."
   ]
  },
  {
   "cell_type": "markdown",
   "metadata": {},
   "source": [
    "<b>Penalties:</b> You will incur penalties if:\n",
    "<ul>\n",
    "<li>Your code is wrong</li>\n",
    "<li>Your code does not work on different data</li>\n",
    "<li>You use loops (unless explicitly permitted)</li>\n",
    "</ul>"
   ]
  },
  {
   "cell_type": "markdown",
   "metadata": {},
   "source": [
    "## Problem"
   ]
  },
  {
   "cell_type": "markdown",
   "metadata": {},
   "source": [
    "Start by executing the following code, which creates a Series object <b>stock</b> of share prices of Apple. "
   ]
  },
  {
   "cell_type": "code",
   "execution_count": 77,
   "metadata": {
    "collapsed": false
   },
   "outputs": [],
   "source": [
    "import pandas as pd\n",
    "import pandas_datareader.data as web # if this line gives you an error, install pandas_datareader\n",
    "import datetime    \n",
    "ticker = 'AAPL'\n",
    "\n",
    "start = datetime.datetime(1990, 7, 1)\n",
    "end = datetime.datetime(2017, 4, 17)\n",
    "df = web.DataReader(ticker, 'google', start, end)\n",
    "\n",
    "dates = []\n",
    "for x in range(len(df)):\n",
    "    # get the dates from the index\n",
    "    newdate = str(df.index[x])\n",
    "    # strip out the timestamp to get only the date\n",
    "    newdate = newdate[0:10]\n",
    "    dates.append(newdate)\n",
    "df['dates'] = dates\n",
    "\n",
    "# Create a Series called stock\n",
    "stock = df.Close\n",
    "stock.name = ticker"
   ]
  },
  {
   "cell_type": "code",
   "execution_count": 78,
   "metadata": {
    "collapsed": false
   },
   "outputs": [
    {
     "name": "stdout",
     "output_type": "stream",
     "text": [
      "4000\n",
      "Date\n",
      "2001-05-21    1.68\n",
      "2001-05-22    1.68\n",
      "2001-05-23    1.66\n",
      "2001-05-24    1.66\n",
      "2001-05-25    1.63\n",
      "2001-05-29    1.53\n",
      "2001-05-30    1.41\n",
      "2001-05-31    1.42\n",
      "2001-06-01    1.49\n",
      "2001-06-04    1.48\n",
      "Name: AAPL, dtype: float64\n",
      "Date\n",
      "2017-04-03    143.70\n",
      "2017-04-04    144.77\n",
      "2017-04-05    144.02\n",
      "2017-04-06    143.66\n",
      "2017-04-07    143.34\n",
      "2017-04-10    143.17\n",
      "2017-04-11    141.63\n",
      "2017-04-12    141.80\n",
      "2017-04-13    141.05\n",
      "2017-04-17    141.83\n",
      "Name: AAPL, dtype: float64\n"
     ]
    }
   ],
   "source": [
    "print len(stock)\n",
    "print stock.head(10)\n",
    "print stock.tail(10)"
   ]
  },
  {
   "cell_type": "code",
   "execution_count": 79,
   "metadata": {
    "collapsed": false
   },
   "outputs": [
    {
     "name": "stdout",
     "output_type": "stream",
     "text": [
      "Populating the interactive namespace from numpy and matplotlib\n"
     ]
    },
    {
     "data": {
      "text/plain": [
       "<matplotlib.axes._subplots.AxesSubplot at 0x892df28>"
      ]
     },
     "execution_count": 79,
     "metadata": {},
     "output_type": "execute_result"
    },
    {
     "data": {
      "image/png": "[encoded data removed]",
      "text/plain": [
       "<matplotlib.figure.Figure at 0x870b4a8>"
      ]
     },
     "metadata": {},
     "output_type": "display_data"
    }
   ],
   "source": [
    "%pylab inline\n",
    "stock.plot()"
   ]
  },
  {
   "cell_type": "markdown",
   "metadata": {},
   "source": [
    "### Question 1\n"
   ]
  },
  {
   "cell_type": "markdown",
   "metadata": {},
   "source": [
    "What was the price on Jan 29, 2016?"
   ]
  },
  {
   "cell_type": "code",
   "execution_count": 80,
   "metadata": {
    "collapsed": false
   },
   "outputs": [
    {
     "data": {
      "text/plain": [
       "97.34"
      ]
     },
     "execution_count": 80,
     "metadata": {},
     "output_type": "execute_result"
    }
   ],
   "source": [
    "float(stock['2016-01-29'])"
   ]
  },
  {
   "cell_type": "markdown",
   "metadata": {},
   "source": [
    "### Question 2"
   ]
  },
  {
   "cell_type": "markdown",
   "metadata": {},
   "source": [
    "Show the price increase (in % compared to the previous trading day) in those trading days whose closing price was at least 10% higher than the previous day's closing price. Your result should be a Series of (trading day, price increase)"
   ]
  },
  {
   "cell_type": "markdown",
   "metadata": {
    "collapsed": false
   },
   "source": [
    "Find the percent increase for a particular day compared to the previous day"
   ]
  },
  {
   "cell_type": "code",
   "execution_count": 83,
   "metadata": {
    "collapsed": true
   },
   "outputs": [],
   "source": [
    "percent_increase = ((stock - stock.shift(1)) / stock.shift(1)) * 100"
   ]
  },
  {
   "cell_type": "markdown",
   "metadata": {},
   "source": [
    "Find the trading days whose closing price was at least 10% higher than previous day's closing price"
   ]
  },
  {
   "cell_type": "code",
   "execution_count": 84,
   "metadata": {
    "collapsed": false
   },
   "outputs": [
    {
     "data": {
      "text/plain": [
       "Date\n",
       "2003-05-05    11.650485\n",
       "2004-07-15    11.374408\n",
       "2004-10-14    13.028169\n",
       "2004-11-22    11.167513\n",
       "2006-07-20    11.772316\n",
       "2007-11-13    10.514338\n",
       "2008-10-13    14.130435\n",
       "2008-11-24    12.542373\n",
       "Name: AAPL, dtype: float64"
      ]
     },
     "execution_count": 84,
     "metadata": {},
     "output_type": "execute_result"
    }
   ],
   "source": [
    "percent_increase[percent_increase >= 10]"
   ]
  },
  {
   "cell_type": "markdown",
   "metadata": {},
   "source": [
    "### Question 3"
   ]
  },
  {
   "cell_type": "markdown",
   "metadata": {},
   "source": [
    "In which days did we observe a price increase of at least 25% from any of the most recent 9 trading sessions? Report your result as a Series (d,gain) where <i>d</i> is the trading day when such increase was observed and <i>gain</i> is the maximum percentage gain (%) observed over the 9 trading days preceding trading day <i>d</i>. <i>Hint:</i> use a rolling minimum"
   ]
  },
  {
   "cell_type": "markdown",
   "metadata": {
    "collapsed": true
   },
   "source": [
    "Find the rolling min over the 9 trading days preceding trading day.Before this, we need to shift(1) so that the current date is not conisdered while finding the rolling min."
   ]
  },
  {
   "cell_type": "code",
   "execution_count": 85,
   "metadata": {
    "collapsed": false
   },
   "outputs": [],
   "source": [
    "rollingmin = stock.shift(1).rolling(9).min()"
   ]
  },
  {
   "cell_type": "markdown",
   "metadata": {
    "collapsed": true
   },
   "source": [
    "Finf the percentage of price increase on a particular day compared to the previous 9 trading days(rolling min has the minimum value already)"
   ]
  },
  {
   "cell_type": "code",
   "execution_count": 86,
   "metadata": {
    "collapsed": true
   },
   "outputs": [],
   "source": [
    "percent_increase = ((stock - rollingmin)/rollingmin) * 100"
   ]
  },
  {
   "cell_type": "markdown",
   "metadata": {
    "collapsed": false
   },
   "source": [
    "Find the days when the percentage increase is atleast 25%"
   ]
  },
  {
   "cell_type": "code",
   "execution_count": 87,
   "metadata": {
    "collapsed": false
   },
   "outputs": [
    {
     "data": {
      "text/plain": [
       "Date\n",
       "2003-05-06    31.578947\n",
       "2003-05-07    32.631579\n",
       "2003-05-08    35.789474\n",
       "2003-05-09    32.323232\n",
       "2003-05-12    33.000000\n",
       "2003-05-13    30.392157\n",
       "2003-05-14    28.155340\n",
       "2003-05-15    30.097087\n",
       "2006-07-26    25.966851\n",
       "2006-07-27    25.138122\n",
       "2006-07-28    25.267380\n",
       "2006-07-31    28.439153\n",
       "Name: AAPL, dtype: float64"
      ]
     },
     "execution_count": 87,
     "metadata": {},
     "output_type": "execute_result"
    }
   ],
   "source": [
    "percent_increase[percent_increase >= 25]"
   ]
  },
  {
   "cell_type": "markdown",
   "metadata": {},
   "source": [
    "### Question 4 (hard)"
   ]
  },
  {
   "cell_type": "markdown",
   "metadata": {},
   "source": [
    "What was the worst possible \"buy&sell\" operation? Find the two trading days x and y so that the % loss resulting from buying in x and selling in y (with y > x) is maximized. Your code should work for any other stock. <i>Hint:</i> the method <b>cummin</b> returns the minimum value encountered so far."
   ]
  },
  {
   "cell_type": "code",
   "execution_count": 91,
   "metadata": {
    "collapsed": false
   },
   "outputs": [],
   "source": [
    "\"\"\"\n",
    "If we buy the stock today, find the cumulative min from tomorrow to the end of the series to find the min sell price\n",
    "Since cummin is for data seen so far, we sort the series in reverse order by index, shift it by 1 to not include current day\n",
    "price for selling and then find the cummin for each date\n",
    "We then sort the series back to the original order\n",
    "minSell contains the cumulative min value from that point (exclusive) to the end of the series\n",
    "\"\"\"\n",
    "minSell = stock.sort_index(ascending=False).shift(1).cummin().sort_index()"
   ]
  },
  {
   "cell_type": "code",
   "execution_count": 92,
   "metadata": {
    "collapsed": false
   },
   "outputs": [],
   "source": [
    "# We calculate the loss from buying the stock on the current date and selling the stock at the corresponding minSell price\n",
    "# The minSell price is at a future date\n",
    "loss = ((minSell - stock)/stock) * 100"
   ]
  },
  {
   "cell_type": "code",
   "execution_count": 93,
   "metadata": {
    "collapsed": false
   },
   "outputs": [
    {
     "name": "stdout",
     "output_type": "stream",
     "text": [
      "The worst day to buy was 2007-12-28, when the price was $28.55, and the worst day to sell was 2009-01-20 \n",
      "when the price was $11.17. The loss of this buy/sell transaction is -60.88%.\n"
     ]
    }
   ],
   "source": [
    "buyDate = loss.idxmin()\n",
    "maxLoss = loss.min()\n",
    "sellValue = minSell[buyDate]\n",
    "buyValue = stock[buyDate]\n",
    "sellDate = str(stock[stock == sellValue].index[0])[0:10]\n",
    "#print str(buyDate)[0:10], maxLoss, sellValue, buyValue, sellDate\n",
    "print \"The worst day to buy was %s, when the price was $%0.2f, and the worst day to sell was %s \\nwhen the price was $%0.2f. \\\n",
    "The loss of this buy/sell transaction is %0.2f%%.\" % (str(buyDate)[0:10],buyValue,sellDate,sellValue,maxLoss)"
   ]
  },
  {
   "cell_type": "code",
   "execution_count": null,
   "metadata": {
    "collapsed": true
   },
   "outputs": [],
   "source": []
  }
 ],
 "metadata": {
  "kernelspec": {
   "display_name": "Python 2",
   "language": "python",
   "name": "python2"
  },
  "language_info": {
   "codemirror_mode": {
    "name": "ipython",
    "version": 2
   },
   "file_extension": ".py",
   "mimetype": "text/x-python",
   "name": "python",
   "nbconvert_exporter": "python",
   "pygments_lexer": "ipython2",
   "version": "2.7.11"
  }
 },
 "nbformat": 4,
 "nbformat_minor": 0
}
