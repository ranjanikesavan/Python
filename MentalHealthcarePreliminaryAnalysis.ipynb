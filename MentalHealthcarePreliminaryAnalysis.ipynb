{
 "cells": [
  {
   "cell_type": "markdown",
   "metadata": {},
   "source": [
    "# Midterm take-home"
   ]
  },
  {
   "cell_type": "markdown",
   "metadata": {},
   "source": [
    "<p>Instructions\n",
    "<ol>\n",
    "<li>Download the files <i>CCARs.xlsx</i> and <i>Services.xlsx</i> into the same folder as this notebook.\n",
    "<li>Read the file <i>Documentation.pdf</i>\n",
    "<li>Run the code below and then answer the questions\n",
    "</ol></p>"
   ]
  },
  {
   "cell_type": "markdown",
   "metadata": {},
   "source": [
    "<b>Penalties:</b> You will incur penalties if:\n",
    "<ul>\n",
    "<li>Your code is wrong</li>\n",
    "<li>Your code does not work on different data</li>\n",
    "<li>You use for loops (unless explicitly permitted)</li>\n",
    "</ul>"
   ]
  },
  {
   "cell_type": "code",
   "execution_count": 21,
   "metadata": {
    "collapsed": false
   },
   "outputs": [],
   "source": [
    "import xlrd # you might need to install this package (either via Canopy or by executing \"pip install xlrd\" in a terminal)\n",
    "import pandas as pd\n",
    "ccars = pd.read_excel('CCARs.xlsx')\n",
    "services = pd.read_excel('Services.xlsx')\n",
    "# the code above will take a long time to run, because the files are large"
   ]
  },
  {
   "cell_type": "markdown",
   "metadata": {},
   "source": [
    "Here are some CCAR."
   ]
  },
  {
   "cell_type": "code",
   "execution_count": 4,
   "metadata": {
    "collapsed": false
   },
   "outputs": [
    {
     "data": {
      "text/html": [
       "<div>\n",
       "<table border=\"1\" class=\"dataframe\">\n",
       "  <thead>\n",
       "    <tr style=\"text-align: right;\">\n",
       "      <th></th>\n",
       "      <th>CLIENT_ID</th>\n",
       "      <th>CCAR_TYPE</th>\n",
       "      <th>CCAR_DATE</th>\n",
       "      <th>HOUSING</th>\n",
       "      <th>LEVEL_OF_FUNCTIONING</th>\n",
       "      <th>SYMPTOM_SEVERITY</th>\n",
       "      <th>HOPE</th>\n",
       "    </tr>\n",
       "  </thead>\n",
       "  <tbody>\n",
       "    <tr>\n",
       "      <th>0</th>\n",
       "      <td>4A8998A4966913</td>\n",
       "      <td>NaN</td>\n",
       "      <td>2015-04-15</td>\n",
       "      <td>15</td>\n",
       "      <td>3</td>\n",
       "      <td>3</td>\n",
       "      <td>1</td>\n",
       "    </tr>\n",
       "    <tr>\n",
       "      <th>1</th>\n",
       "      <td>A628826A899812</td>\n",
       "      <td>NaN</td>\n",
       "      <td>2015-04-15</td>\n",
       "      <td>12</td>\n",
       "      <td>6</td>\n",
       "      <td>6</td>\n",
       "      <td>6</td>\n",
       "    </tr>\n",
       "    <tr>\n",
       "      <th>2</th>\n",
       "      <td>44277244933913</td>\n",
       "      <td>NaN</td>\n",
       "      <td>2015-04-15</td>\n",
       "      <td>14</td>\n",
       "      <td>5</td>\n",
       "      <td>5</td>\n",
       "      <td>2</td>\n",
       "    </tr>\n",
       "    <tr>\n",
       "      <th>3</th>\n",
       "      <td>A153351A411412</td>\n",
       "      <td>NaN</td>\n",
       "      <td>2015-04-15</td>\n",
       "      <td>15</td>\n",
       "      <td>3</td>\n",
       "      <td>6</td>\n",
       "      <td>2</td>\n",
       "    </tr>\n",
       "    <tr>\n",
       "      <th>4</th>\n",
       "      <td>22655622722713</td>\n",
       "      <td>1.0</td>\n",
       "      <td>2015-04-15</td>\n",
       "      <td>15</td>\n",
       "      <td>3</td>\n",
       "      <td>3</td>\n",
       "      <td>3</td>\n",
       "    </tr>\n",
       "  </tbody>\n",
       "</table>\n",
       "</div>"
      ],
      "text/plain": [
       "        CLIENT_ID  CCAR_TYPE  CCAR_DATE  HOUSING  LEVEL_OF_FUNCTIONING  \\\n",
       "0  4A8998A4966913        NaN 2015-04-15       15                     3   \n",
       "1  A628826A899812        NaN 2015-04-15       12                     6   \n",
       "2  44277244933913        NaN 2015-04-15       14                     5   \n",
       "3  A153351A411412        NaN 2015-04-15       15                     3   \n",
       "4  22655622722713        1.0 2015-04-15       15                     3   \n",
       "\n",
       "   SYMPTOM_SEVERITY  HOPE  \n",
       "0                 3     1  \n",
       "1                 6     6  \n",
       "2                 5     2  \n",
       "3                 6     2  \n",
       "4                 3     3  "
      ]
     },
     "execution_count": 4,
     "metadata": {},
     "output_type": "execute_result"
    }
   ],
   "source": [
    "ccars.head()"
   ]
  },
  {
   "cell_type": "markdown",
   "metadata": {},
   "source": [
    "Here are some services."
   ]
  },
  {
   "cell_type": "code",
   "execution_count": 5,
   "metadata": {
    "collapsed": false
   },
   "outputs": [
    {
     "data": {
      "text/html": [
       "<div>\n",
       "<table border=\"1\" class=\"dataframe\">\n",
       "  <thead>\n",
       "    <tr style=\"text-align: right;\">\n",
       "      <th></th>\n",
       "      <th>CLIENT_ID</th>\n",
       "      <th>MBR_AGE</th>\n",
       "      <th>MBR_GENDER</th>\n",
       "      <th>MBR_PRIMARY_LANGUAGE</th>\n",
       "      <th>MBR_ZIPCODE</th>\n",
       "      <th>MEDICAID_ELIG_CAT</th>\n",
       "      <th>SERVICE_DATE</th>\n",
       "      <th>SERVICE_CODE</th>\n",
       "      <th>SERV_CODE_DESCRP</th>\n",
       "      <th>DIAGNOSIS</th>\n",
       "      <th>...</th>\n",
       "      <th>SERVICE_TYPE</th>\n",
       "      <th>SERVICE_DURATION</th>\n",
       "      <th>ADMISSION_DATE</th>\n",
       "      <th>DISCHARGE_DATE</th>\n",
       "      <th>PROVIDER</th>\n",
       "      <th>PRV_TYP_DESC</th>\n",
       "      <th>PROV_CREDENTIALS</th>\n",
       "      <th>PROV_ZIPCODE</th>\n",
       "      <th>PROV_FLAG</th>\n",
       "      <th>SOURCE</th>\n",
       "    </tr>\n",
       "  </thead>\n",
       "  <tbody>\n",
       "    <tr>\n",
       "      <th>0</th>\n",
       "      <td>69266296A66A31</td>\n",
       "      <td>40</td>\n",
       "      <td>Male</td>\n",
       "      <td>ENGLISH</td>\n",
       "      <td>80304</td>\n",
       "      <td>DISABLED</td>\n",
       "      <td>2015-01-01</td>\n",
       "      <td>H0018</td>\n",
       "      <td>Behavioral health; short-term residential (non...</td>\n",
       "      <td>Other Schizoaffective Disorders</td>\n",
       "      <td>...</td>\n",
       "      <td>ATU</td>\n",
       "      <td>1260</td>\n",
       "      <td></td>\n",
       "      <td></td>\n",
       "      <td>MENTAL HEALTH PARTNERS</td>\n",
       "      <td>COMMUNITY MENTAL HEALTH CENTER OR PUB HLTH AGENCY</td>\n",
       "      <td>CAC III</td>\n",
       "      <td>80304</td>\n",
       "      <td>MHP CMHC</td>\n",
       "      <td>Encounter</td>\n",
       "    </tr>\n",
       "    <tr>\n",
       "      <th>1</th>\n",
       "      <td>58777785A44A11</td>\n",
       "      <td>28</td>\n",
       "      <td>Male</td>\n",
       "      <td>ENGLISH</td>\n",
       "      <td>80302</td>\n",
       "      <td>DISABLED</td>\n",
       "      <td>2015-01-01</td>\n",
       "      <td>H0018</td>\n",
       "      <td>Behavioral health; short-term residential (non...</td>\n",
       "      <td>Other Schizoaffective Disorders</td>\n",
       "      <td>...</td>\n",
       "      <td>ATU</td>\n",
       "      <td>360</td>\n",
       "      <td></td>\n",
       "      <td></td>\n",
       "      <td>MENTAL HEALTH PARTNERS</td>\n",
       "      <td>COMMUNITY MENTAL HEALTH CENTER OR PUB HLTH AGENCY</td>\n",
       "      <td>CAC III</td>\n",
       "      <td>80304</td>\n",
       "      <td>MHP CMHC</td>\n",
       "      <td>Encounter</td>\n",
       "    </tr>\n",
       "    <tr>\n",
       "      <th>2</th>\n",
       "      <td>87855878244282</td>\n",
       "      <td>20</td>\n",
       "      <td>Female</td>\n",
       "      <td>ENGLISH</td>\n",
       "      <td>80504</td>\n",
       "      <td>DISABLED</td>\n",
       "      <td>2015-01-01</td>\n",
       "      <td>H0018</td>\n",
       "      <td>Behavioral health; short-term residential (non...</td>\n",
       "      <td>Other Schizoaffective Disorders</td>\n",
       "      <td>...</td>\n",
       "      <td>ATU</td>\n",
       "      <td>1310</td>\n",
       "      <td></td>\n",
       "      <td></td>\n",
       "      <td>MENTAL HEALTH PARTNERS</td>\n",
       "      <td>COMMUNITY MENTAL HEALTH CENTER OR PUB HLTH AGENCY</td>\n",
       "      <td>CAC III</td>\n",
       "      <td>80304</td>\n",
       "      <td>MHP CMHC</td>\n",
       "      <td>Encounter</td>\n",
       "    </tr>\n",
       "    <tr>\n",
       "      <th>3</th>\n",
       "      <td>49A88A94244201</td>\n",
       "      <td>36</td>\n",
       "      <td>Male</td>\n",
       "      <td>ENGLISH</td>\n",
       "      <td>80304</td>\n",
       "      <td>DISABLED</td>\n",
       "      <td>2015-01-01</td>\n",
       "      <td>H0018</td>\n",
       "      <td>Behavioral health; short-term residential (non...</td>\n",
       "      <td>Schizophrenia, Unspecified</td>\n",
       "      <td>...</td>\n",
       "      <td>ATU</td>\n",
       "      <td>1440</td>\n",
       "      <td></td>\n",
       "      <td></td>\n",
       "      <td>MENTAL HEALTH PARTNERS</td>\n",
       "      <td>COMMUNITY MENTAL HEALTH CENTER OR PUB HLTH AGENCY</td>\n",
       "      <td>CAC III</td>\n",
       "      <td>80304</td>\n",
       "      <td>MHP CMHC</td>\n",
       "      <td>Encounter</td>\n",
       "    </tr>\n",
       "    <tr>\n",
       "      <th>4</th>\n",
       "      <td>7A8778A7799771</td>\n",
       "      <td>45</td>\n",
       "      <td>Female</td>\n",
       "      <td>ENGLISH</td>\n",
       "      <td>80302</td>\n",
       "      <td>DISABLED</td>\n",
       "      <td>2015-01-01</td>\n",
       "      <td>H0018</td>\n",
       "      <td>Behavioral health; short-term residential (non...</td>\n",
       "      <td>Schizophrenia, Unspecified</td>\n",
       "      <td>...</td>\n",
       "      <td>ATU</td>\n",
       "      <td>1080</td>\n",
       "      <td></td>\n",
       "      <td></td>\n",
       "      <td>MENTAL HEALTH PARTNERS</td>\n",
       "      <td>COMMUNITY MENTAL HEALTH CENTER OR PUB HLTH AGENCY</td>\n",
       "      <td>CAC III</td>\n",
       "      <td>80304</td>\n",
       "      <td>MHP CMHC</td>\n",
       "      <td>Encounter</td>\n",
       "    </tr>\n",
       "  </tbody>\n",
       "</table>\n",
       "<p>5 rows × 23 columns</p>\n",
       "</div>"
      ],
      "text/plain": [
       "        CLIENT_ID  MBR_AGE MBR_GENDER MBR_PRIMARY_LANGUAGE  MBR_ZIPCODE  \\\n",
       "0  69266296A66A31       40       Male              ENGLISH        80304   \n",
       "1  58777785A44A11       28       Male              ENGLISH        80302   \n",
       "2  87855878244282       20     Female              ENGLISH        80504   \n",
       "3  49A88A94244201       36       Male              ENGLISH        80304   \n",
       "4  7A8778A7799771       45     Female              ENGLISH        80302   \n",
       "\n",
       "  MEDICAID_ELIG_CAT SERVICE_DATE SERVICE_CODE  \\\n",
       "0          DISABLED   2015-01-01        H0018   \n",
       "1          DISABLED   2015-01-01        H0018   \n",
       "2          DISABLED   2015-01-01        H0018   \n",
       "3          DISABLED   2015-01-01        H0018   \n",
       "4          DISABLED   2015-01-01        H0018   \n",
       "\n",
       "                                    SERV_CODE_DESCRP  \\\n",
       "0  Behavioral health; short-term residential (non...   \n",
       "1  Behavioral health; short-term residential (non...   \n",
       "2  Behavioral health; short-term residential (non...   \n",
       "3  Behavioral health; short-term residential (non...   \n",
       "4  Behavioral health; short-term residential (non...   \n",
       "\n",
       "                         DIAGNOSIS    ...      SERVICE_TYPE  SERVICE_DURATION  \\\n",
       "0  Other Schizoaffective Disorders    ...               ATU             1260    \n",
       "1  Other Schizoaffective Disorders    ...               ATU             360     \n",
       "2  Other Schizoaffective Disorders    ...               ATU             1310    \n",
       "3       Schizophrenia, Unspecified    ...               ATU             1440    \n",
       "4       Schizophrenia, Unspecified    ...               ATU             1080    \n",
       "\n",
       "   ADMISSION_DATE DISCHARGE_DATE                PROVIDER  \\\n",
       "0                                 MENTAL HEALTH PARTNERS   \n",
       "1                                 MENTAL HEALTH PARTNERS   \n",
       "2                                 MENTAL HEALTH PARTNERS   \n",
       "3                                 MENTAL HEALTH PARTNERS   \n",
       "4                                 MENTAL HEALTH PARTNERS   \n",
       "\n",
       "                                        PRV_TYP_DESC PROV_CREDENTIALS  \\\n",
       "0  COMMUNITY MENTAL HEALTH CENTER OR PUB HLTH AGENCY          CAC III   \n",
       "1  COMMUNITY MENTAL HEALTH CENTER OR PUB HLTH AGENCY          CAC III   \n",
       "2  COMMUNITY MENTAL HEALTH CENTER OR PUB HLTH AGENCY          CAC III   \n",
       "3  COMMUNITY MENTAL HEALTH CENTER OR PUB HLTH AGENCY          CAC III   \n",
       "4  COMMUNITY MENTAL HEALTH CENTER OR PUB HLTH AGENCY          CAC III   \n",
       "\n",
       "  PROV_ZIPCODE PROV_FLAG     SOURCE  \n",
       "0        80304  MHP CMHC  Encounter  \n",
       "1        80304  MHP CMHC  Encounter  \n",
       "2        80304  MHP CMHC  Encounter  \n",
       "3        80304  MHP CMHC  Encounter  \n",
       "4        80304  MHP CMHC  Encounter  \n",
       "\n",
       "[5 rows x 23 columns]"
      ]
     },
     "execution_count": 5,
     "metadata": {},
     "output_type": "execute_result"
    }
   ],
   "source": [
    "services.head(5)"
   ]
  },
  {
   "cell_type": "code",
   "execution_count": 6,
   "metadata": {
    "collapsed": false
   },
   "outputs": [
    {
     "data": {
      "text/plain": [
       "15079"
      ]
     },
     "execution_count": 6,
     "metadata": {},
     "output_type": "execute_result"
    }
   ],
   "source": [
    "len(ccars)"
   ]
  },
  {
   "cell_type": "code",
   "execution_count": 7,
   "metadata": {
    "collapsed": false
   },
   "outputs": [
    {
     "data": {
      "text/plain": [
       "335880"
      ]
     },
     "execution_count": 7,
     "metadata": {},
     "output_type": "execute_result"
    }
   ],
   "source": [
    "len(services)"
   ]
  },
  {
   "cell_type": "markdown",
   "metadata": {},
   "source": [
    "## Warm-up (not graded)"
   ]
  },
  {
   "cell_type": "markdown",
   "metadata": {},
   "source": [
    "<p>\n",
    "These two questions are not graded. They are just to make sure that you understand the data sets.\n",
    "</p>"
   ]
  },
  {
   "cell_type": "markdown",
   "metadata": {},
   "source": [
    "#### What's the proportion of services that are claims (see column <i>Source</i> of services)? "
   ]
  },
  {
   "cell_type": "code",
   "execution_count": 8,
   "metadata": {
    "collapsed": false
   },
   "outputs": [
    {
     "data": {
      "text/plain": [
       "0.33151423127307372"
      ]
     },
     "execution_count": 8,
     "metadata": {},
     "output_type": "execute_result"
    }
   ],
   "source": [
    "(services['SOURCE'] == 'Claim').mean()"
   ]
  },
  {
   "cell_type": "markdown",
   "metadata": {},
   "source": [
    "The correct answer is 0.33151423127307372"
   ]
  },
  {
   "cell_type": "markdown",
   "metadata": {},
   "source": [
    "#### For every Medicaid category (MEDICAID_ELIG_CAT), find the average level of Hope recorded for clients in that Medicaid category. "
   ]
  },
  {
   "cell_type": "code",
   "execution_count": 9,
   "metadata": {
    "collapsed": false
   },
   "outputs": [
    {
     "data": {
      "text/plain": [
       "MEDICAID_ELIG_CAT\n",
       "ADULT          3.194272\n",
       "AwDC           3.390436\n",
       "CHILD          3.005202\n",
       "DISABLED       3.531640\n",
       "ELDERLY        3.358147\n",
       "FOSTER CARE    3.205073\n",
       "OTHER          2.845111\n",
       "Name: HOPE, dtype: float64"
      ]
     },
     "execution_count": 9,
     "metadata": {},
     "output_type": "execute_result"
    }
   ],
   "source": [
    "ccars.merge(services[['CLIENT_ID','MEDICAID_ELIG_CAT']],left_on='CLIENT_ID',right_on='CLIENT_ID')\\\n",
    ".groupby('MEDICAID_ELIG_CAT')['HOPE'].agg('mean')"
   ]
  },
  {
   "cell_type": "markdown",
   "metadata": {},
   "source": [
    "The correct answer is as follows:"
   ]
  },
  {
   "cell_type": "markdown",
   "metadata": {},
   "source": [
    "MEDICAID_ELIG_CAT<br/>\n",
    "ADULT &nbsp;&nbsp;&nbsp;&nbsp;&nbsp;&nbsp;&nbsp;&nbsp;&nbsp;&nbsp;&nbsp;&nbsp;&nbsp; &nbsp;&nbsp;&nbsp;&nbsp;        3.194272<br/>\n",
    "AwDC    &nbsp;&nbsp;&nbsp;&nbsp;&nbsp;&nbsp;&nbsp;&nbsp;&nbsp;&nbsp;&nbsp;&nbsp;&nbsp;&nbsp;&nbsp;&nbsp;&nbsp;&nbsp;&nbsp;        3.390436<br/>\n",
    "CHILD    &nbsp;&nbsp;&nbsp;&nbsp;&nbsp;&nbsp;&nbsp;&nbsp;&nbsp;&nbsp;&nbsp;&nbsp;&nbsp;&nbsp;&nbsp;&nbsp;&nbsp;&nbsp;&nbsp;      3.005202<br/>\n",
    "DISABLED  &nbsp; &nbsp;&nbsp;&nbsp;&nbsp;&nbsp;&nbsp;&nbsp;&nbsp;&nbsp;&nbsp;    3.531640<br/>\n",
    "ELDERLY    &nbsp;&nbsp;&nbsp;&nbsp;&nbsp;&nbsp; &nbsp; &nbsp;&nbsp;&nbsp;&nbsp;    3.358147<br/>\n",
    "FOSTER CARE &nbsp;&nbsp;&nbsp;   3.205073<br/>\n",
    "OTHER    &nbsp;&nbsp;&nbsp;&nbsp;&nbsp;&nbsp;&nbsp;&nbsp;&nbsp; &nbsp;&nbsp;&nbsp;&nbsp;&nbsp;&nbsp;       2.845111<br/>\n",
    "Name: HOPE, dtype: float64"
   ]
  },
  {
   "cell_type": "markdown",
   "metadata": {},
   "source": [
    "### Questions (10 pts)"
   ]
  },
  {
   "cell_type": "markdown",
   "metadata": {},
   "source": [
    "As explained in the <i>Documentation</i>, services (i.e., rows in the services DataFrame) can be either encounters or claims. It is desirable to limit the number of claims, which are more expensive than encounters. Our goal is to manually explore the data in order to find possible drivers of claims."
   ]
  },
  {
   "cell_type": "markdown",
   "metadata": {},
   "source": [
    "#### Question 1 (1 pt):"
   ]
  },
  {
   "cell_type": "markdown",
   "metadata": {},
   "source": [
    "For each type of service (Encounter vs Claim), report the number of services in that group and their average charged amount. Report your results in a single table."
   ]
  },
  {
   "cell_type": "code",
   "execution_count": 23,
   "metadata": {
    "collapsed": false
   },
   "outputs": [
    {
     "data": {
      "text/html": [
       "<div>\n",
       "<table border=\"1\" class=\"dataframe\">\n",
       "  <thead>\n",
       "    <tr style=\"text-align: right;\">\n",
       "      <th></th>\n",
       "      <th>Avg. charged amount</th>\n",
       "      <th>No. of services</th>\n",
       "    </tr>\n",
       "    <tr>\n",
       "      <th>SOURCE</th>\n",
       "      <th></th>\n",
       "      <th></th>\n",
       "    </tr>\n",
       "  </thead>\n",
       "  <tbody>\n",
       "    <tr>\n",
       "      <th>Claim</th>\n",
       "      <td>326.208942</td>\n",
       "      <td>111349</td>\n",
       "    </tr>\n",
       "    <tr>\n",
       "      <th>Encounter</th>\n",
       "      <td>184.867381</td>\n",
       "      <td>224531</td>\n",
       "    </tr>\n",
       "  </tbody>\n",
       "</table>\n",
       "</div>"
      ],
      "text/plain": [
       "           Avg. charged amount  No. of services\n",
       "SOURCE                                         \n",
       "Claim               326.208942           111349\n",
       "Encounter           184.867381           224531"
      ]
     },
     "execution_count": 23,
     "metadata": {},
     "output_type": "execute_result"
    }
   ],
   "source": [
    "services.groupby('SOURCE')['CHARGED_AMT'].agg({'No. of services':'size','Avg. charged amount' : 'mean'})"
   ]
  },
  {
   "cell_type": "markdown",
   "metadata": {},
   "source": [
    "#### Question 2 (1 pt):"
   ]
  },
  {
   "cell_type": "markdown",
   "metadata": {},
   "source": [
    "For each DIAGNOSIS, compute the number of services with that diagnosis and the proportion (0 to 1, computed among the services with that diagnosis) of services that are claims. Visualize only diagnoses with at least 10,000 services sorted by decreasing proportion of claims. Report your results in a single table."
   ]
  },
  {
   "cell_type": "code",
   "execution_count": 24,
   "metadata": {
    "collapsed": false
   },
   "outputs": [
    {
     "name": "stderr",
     "output_type": "stream",
     "text": [
      "C:\\Users\\ronathan\\AppData\\Local\\Enthought\\Canopy\\User\\lib\\site-packages\\ipykernel\\__main__.py:2: SettingWithCopyWarning: \n",
      "A value is trying to be set on a copy of a slice from a DataFrame.\n",
      "Try using .loc[row_indexer,col_indexer] = value instead\n",
      "\n",
      "See the caveats in the documentation: http://pandas.pydata.org/pandas-docs/stable/indexing.html#indexing-view-versus-copy\n",
      "  from ipykernel import kernelapp as app\n"
     ]
    },
    {
     "data": {
      "text/html": [
       "<div>\n",
       "<table border=\"1\" class=\"dataframe\">\n",
       "  <thead>\n",
       "    <tr style=\"text-align: right;\">\n",
       "      <th></th>\n",
       "      <th>Count</th>\n",
       "      <th>Proportion</th>\n",
       "    </tr>\n",
       "    <tr>\n",
       "      <th>DIAGNOSIS</th>\n",
       "      <th></th>\n",
       "      <th></th>\n",
       "    </tr>\n",
       "  </thead>\n",
       "  <tbody>\n",
       "    <tr>\n",
       "      <th>Opioid Dependence, Uncomplicated</th>\n",
       "      <td>63832</td>\n",
       "      <td>0.953127</td>\n",
       "    </tr>\n",
       "    <tr>\n",
       "      <th>Alcohol Dependence, Uncomplicated</th>\n",
       "      <td>18466</td>\n",
       "      <td>0.195549</td>\n",
       "    </tr>\n",
       "    <tr>\n",
       "      <th>Post-Traumatic Stress Disorder, Unspecified</th>\n",
       "      <td>19911</td>\n",
       "      <td>0.125358</td>\n",
       "    </tr>\n",
       "    <tr>\n",
       "      <th>Generalized Anxiety Disorder</th>\n",
       "      <td>11330</td>\n",
       "      <td>0.118094</td>\n",
       "    </tr>\n",
       "    <tr>\n",
       "      <th>Post-Traumatic Stress Disorder, Acute</th>\n",
       "      <td>10413</td>\n",
       "      <td>0.077595</td>\n",
       "    </tr>\n",
       "    <tr>\n",
       "      <th>Major Depressive Affective Disorder, Recurrent Episode, Moderate</th>\n",
       "      <td>14347</td>\n",
       "      <td>0.076044</td>\n",
       "    </tr>\n",
       "    <tr>\n",
       "      <th>Schizophrenia, Unspecified</th>\n",
       "      <td>12444</td>\n",
       "      <td>0.030135</td>\n",
       "    </tr>\n",
       "    <tr>\n",
       "      <th>Other Schizoaffective Disorders</th>\n",
       "      <td>11172</td>\n",
       "      <td>0.017633</td>\n",
       "    </tr>\n",
       "    <tr>\n",
       "      <th>Schizoaffective Disorder, Bipolar Type</th>\n",
       "      <td>13782</td>\n",
       "      <td>0.015745</td>\n",
       "    </tr>\n",
       "  </tbody>\n",
       "</table>\n",
       "</div>"
      ],
      "text/plain": [
       "                                                    Count  Proportion\n",
       "DIAGNOSIS                                                            \n",
       "Opioid Dependence, Uncomplicated                    63832    0.953127\n",
       "Alcohol Dependence, Uncomplicated                   18466    0.195549\n",
       "Post-Traumatic Stress Disorder, Unspecified         19911    0.125358\n",
       "Generalized Anxiety Disorder                        11330    0.118094\n",
       "Post-Traumatic Stress Disorder, Acute               10413    0.077595\n",
       "Major Depressive Affective Disorder, Recurrent ...  14347    0.076044\n",
       "Schizophrenia, Unspecified                          12444    0.030135\n",
       "Other Schizoaffective Disorders                     11172    0.017633\n",
       "Schizoaffective Disorder, Bipolar Type              13782    0.015745"
      ]
     },
     "execution_count": 24,
     "metadata": {},
     "output_type": "execute_result"
    }
   ],
   "source": [
    "diag = services[['DIAGNOSIS','SOURCE']]\n",
    "diag['SERVICES'] = (diag['SOURCE'] == 'Claim')\n",
    "gb = diag.groupby('DIAGNOSIS')['SERVICES']\n",
    "diag = gb.agg({'Count' : 'count','Proportion' : 'mean'})\n",
    "diag.loc[diag['Count'] >= 10000].sort_values(['Proportion'],ascending=False)"
   ]
  },
  {
   "cell_type": "markdown",
   "metadata": {},
   "source": [
    "#### Question 3 (3 pts):"
   ]
  },
  {
   "cell_type": "markdown",
   "metadata": {},
   "source": [
    "We want to see if a client's CCAR reveals whether the client will soon have a Claim. To this end, build a DataFrame, called <b>df</b> with one row per CCAR* and the following columns (with <b>exactly</b> these names):\n",
    "<ul> \n",
    "<li><b>CLIENT_ID</b>: the client id\n",
    "<li><b>CCAR_DATE</b>: the CCAR date\n",
    "<li><b>SYMPTOM_SEVERITY</b>: the SYMPTOM_SEVERITY recorded in the CCAR\n",
    "<li><b>DAYS_TO_SERVICE</b>: the days elapsed between the CCAR and the client's next service. By \"next service\", we mean the first service involving the same client after the client's CCAR. \n",
    "<li><b>CLAIM</b>: True (or 1) if the type of the next service is a Claim, False (or 0) if it is an Encounter. \n",
    "</ul>\n",
    "\n",
    "\n",
    "\\* Exclude from your analysis those CCARs that are not followed by any service for that client. For simplicity, assume that a client can have at most one CCAR in a day. Thus, your DataFrame df should have one row for each combination of CLIENT_ID and CCAR_DATE."
   ]
  },
  {
   "cell_type": "code",
   "execution_count": 25,
   "metadata": {
    "collapsed": false
   },
   "outputs": [],
   "source": [
    "\"\"\"\n",
    "Merging ccars and services on client_id - inner join since we are not interested in clients who have not gone for any service \n",
    "(not present in services) or clients who have gone for service but have not been assessed (not present in CCARS)\n",
    "\"\"\"\n",
    "df = ccars[['CLIENT_ID','CCAR_DATE','SYMPTOM_SEVERITY']]\\\n",
    ".merge(services[['CLIENT_ID','SERVICE_DATE','SOURCE']],left_on='CLIENT_ID',right_on='CLIENT_ID')\n",
    "\n",
    "df['DAYS_TO_SERVICE'] = df['SERVICE_DATE'] - df['CCAR_DATE']\n",
    "\n",
    "df = df[df['DAYS_TO_SERVICE'] > '0'].reset_index(drop=True)\n",
    "\n",
    "df['CLAIM'] = (df['SOURCE'] == 'Claim')\n",
    "# Dropping unwanted columns in the dataframe\n",
    "df.drop(['SERVICE_DATE','SOURCE'],axis=1,inplace=True)\n",
    "\n",
    "\n",
    "# Retaining only rows where the days to service is minimum for a group of (CLIENT_ID,CCAR_DATE)\n",
    "\n",
    "df=df.groupby(['CLIENT_ID','CCAR_DATE'],as_index=False).apply(lambda d : d[d.DAYS_TO_SERVICE == d.DAYS_TO_SERVICE.min()])\n",
    "\n",
    "df=df.drop_duplicates(['CLIENT_ID','CCAR_DATE','DAYS_TO_SERVICE'], keep='first')"
   ]
  },
  {
   "cell_type": "code",
   "execution_count": 26,
   "metadata": {
    "collapsed": false
   },
   "outputs": [
    {
     "data": {
      "text/html": [
       "<div>\n",
       "<table border=\"1\" class=\"dataframe\">\n",
       "  <thead>\n",
       "    <tr style=\"text-align: right;\">\n",
       "      <th></th>\n",
       "      <th></th>\n",
       "      <th>CLIENT_ID</th>\n",
       "      <th>CCAR_DATE</th>\n",
       "      <th>SYMPTOM_SEVERITY</th>\n",
       "      <th>DAYS_TO_SERVICE</th>\n",
       "      <th>CLAIM</th>\n",
       "    </tr>\n",
       "  </thead>\n",
       "  <tbody>\n",
       "    <tr>\n",
       "      <th>0</th>\n",
       "      <th>276362</th>\n",
       "      <td>11111111699652</td>\n",
       "      <td>2016-06-17</td>\n",
       "      <td>5</td>\n",
       "      <td>20 days</td>\n",
       "      <td>False</td>\n",
       "    </tr>\n",
       "    <tr>\n",
       "      <th>1</th>\n",
       "      <th>161866</th>\n",
       "      <td>11155111699612</td>\n",
       "      <td>2015-09-24</td>\n",
       "      <td>2</td>\n",
       "      <td>111 days</td>\n",
       "      <td>False</td>\n",
       "    </tr>\n",
       "    <tr>\n",
       "      <th>2</th>\n",
       "      <th>210115</th>\n",
       "      <td>11166111388352</td>\n",
       "      <td>2015-06-16</td>\n",
       "      <td>5</td>\n",
       "      <td>14 days</td>\n",
       "      <td>False</td>\n",
       "    </tr>\n",
       "    <tr>\n",
       "      <th>3</th>\n",
       "      <th>210142</th>\n",
       "      <td>11166111388352</td>\n",
       "      <td>2016-06-20</td>\n",
       "      <td>5</td>\n",
       "      <td>24 days</td>\n",
       "      <td>False</td>\n",
       "    </tr>\n",
       "    <tr>\n",
       "      <th>4</th>\n",
       "      <th>173968</th>\n",
       "      <td>11199111533531</td>\n",
       "      <td>2015-01-23</td>\n",
       "      <td>5</td>\n",
       "      <td>13 days</td>\n",
       "      <td>False</td>\n",
       "    </tr>\n",
       "  </tbody>\n",
       "</table>\n",
       "</div>"
      ],
      "text/plain": [
       "               CLIENT_ID  CCAR_DATE  SYMPTOM_SEVERITY  DAYS_TO_SERVICE  CLAIM\n",
       "0 276362  11111111699652 2016-06-17                 5          20 days  False\n",
       "1 161866  11155111699612 2015-09-24                 2         111 days  False\n",
       "2 210115  11166111388352 2015-06-16                 5          14 days  False\n",
       "3 210142  11166111388352 2016-06-20                 5          24 days  False\n",
       "4 173968  11199111533531 2015-01-23                 5          13 days  False"
      ]
     },
     "execution_count": 26,
     "metadata": {},
     "output_type": "execute_result"
    }
   ],
   "source": [
    "df.head()"
   ]
  },
  {
   "cell_type": "code",
   "execution_count": 27,
   "metadata": {
    "collapsed": false
   },
   "outputs": [
    {
     "data": {
      "text/plain": [
       "9881"
      ]
     },
     "execution_count": 27,
     "metadata": {},
     "output_type": "execute_result"
    }
   ],
   "source": [
    "len(df)"
   ]
  },
  {
   "cell_type": "markdown",
   "metadata": {},
   "source": [
    "#### Question 3.1 (1 pt)"
   ]
  },
  {
   "cell_type": "markdown",
   "metadata": {},
   "source": [
    "Show only the rows of <i>df</i> relative to client 118118119AA962"
   ]
  },
  {
   "cell_type": "code",
   "execution_count": 28,
   "metadata": {
    "collapsed": false
   },
   "outputs": [
    {
     "data": {
      "text/html": [
       "<div>\n",
       "<table border=\"1\" class=\"dataframe\">\n",
       "  <thead>\n",
       "    <tr style=\"text-align: right;\">\n",
       "      <th></th>\n",
       "      <th></th>\n",
       "      <th>CLIENT_ID</th>\n",
       "      <th>CCAR_DATE</th>\n",
       "      <th>SYMPTOM_SEVERITY</th>\n",
       "      <th>DAYS_TO_SERVICE</th>\n",
       "      <th>CLAIM</th>\n",
       "    </tr>\n",
       "  </thead>\n",
       "  <tbody>\n",
       "    <tr>\n",
       "      <th>102</th>\n",
       "      <th>285692</th>\n",
       "      <td>118118119AA962</td>\n",
       "      <td>2015-10-23</td>\n",
       "      <td>5</td>\n",
       "      <td>160 days</td>\n",
       "      <td>False</td>\n",
       "    </tr>\n",
       "    <tr>\n",
       "      <th>103</th>\n",
       "      <th>285691</th>\n",
       "      <td>118118119AA962</td>\n",
       "      <td>2016-10-07</td>\n",
       "      <td>5</td>\n",
       "      <td>46 days</td>\n",
       "      <td>True</td>\n",
       "    </tr>\n",
       "    <tr>\n",
       "      <th>104</th>\n",
       "      <th>285690</th>\n",
       "      <td>118118119AA962</td>\n",
       "      <td>2016-10-14</td>\n",
       "      <td>5</td>\n",
       "      <td>39 days</td>\n",
       "      <td>True</td>\n",
       "    </tr>\n",
       "  </tbody>\n",
       "</table>\n",
       "</div>"
      ],
      "text/plain": [
       "                 CLIENT_ID  CCAR_DATE  SYMPTOM_SEVERITY  DAYS_TO_SERVICE  \\\n",
       "102 285692  118118119AA962 2015-10-23                 5         160 days   \n",
       "103 285691  118118119AA962 2016-10-07                 5          46 days   \n",
       "104 285690  118118119AA962 2016-10-14                 5          39 days   \n",
       "\n",
       "            CLAIM  \n",
       "102 285692  False  \n",
       "103 285691   True  \n",
       "104 285690   True  "
      ]
     },
     "execution_count": 28,
     "metadata": {},
     "output_type": "execute_result"
    }
   ],
   "source": [
    "df[df['CLIENT_ID'] == '118118119AA962']"
   ]
  },
  {
   "cell_type": "markdown",
   "metadata": {},
   "source": [
    "Use df to answer <b>all following questions</b>. "
   ]
  },
  {
   "cell_type": "markdown",
   "metadata": {},
   "source": [
    "#### Question 4 (1 pt):"
   ]
  },
  {
   "cell_type": "markdown",
   "metadata": {},
   "source": [
    "What's the probability that a CCAR is followed by a claim within 30 days?"
   ]
  },
  {
   "cell_type": "code",
   "execution_count": 29,
   "metadata": {
    "collapsed": false
   },
   "outputs": [
    {
     "data": {
      "text/plain": [
       "0.078736969942313537"
      ]
     },
     "execution_count": 29,
     "metadata": {},
     "output_type": "execute_result"
    }
   ],
   "source": [
    "((df['DAYS_TO_SERVICE'] <= '30 days') & (df['CLAIM'] == True)).mean()"
   ]
  },
  {
   "cell_type": "markdown",
   "metadata": {},
   "source": [
    "#### Question 5 (2 pts):"
   ]
  },
  {
   "cell_type": "markdown",
   "metadata": {},
   "source": [
    "What's the probability that a CCAR with SYMPTOM_SEVERITY $>$ 7 is followed by a claim within 30 days?  What's the probability that a CCAR assessment with SYMPTOM_SEVERITY $<$ 3 is followed by a claim within 30 days? "
   ]
  },
  {
   "cell_type": "code",
   "execution_count": 30,
   "metadata": {
    "collapsed": false
   },
   "outputs": [
    {
     "name": "stdout",
     "output_type": "stream",
     "text": [
      "The probability that a CCAR with SYMPTOM_SEVERITY > 7 is followed by a claim within 30 days is 0.002530\n",
      "The probability that a CCAR with SYMPTOM_SEVERITY < 3 is followed by a claim within 30 days is 0.003542\n"
     ]
    }
   ],
   "source": [
    "symptom7_30 = ((df['DAYS_TO_SERVICE'] <= '30 days') & (df['CLAIM'] == True) & (df['SYMPTOM_SEVERITY'] > 7)).mean()\n",
    "symptom3_30 = ((df['DAYS_TO_SERVICE'] <= '30 days') & (df['CLAIM'] == True) & (df['SYMPTOM_SEVERITY'] < 3)).mean()\n",
    "print \"The probability that a CCAR with SYMPTOM_SEVERITY > 7 is followed by a claim within 30 days is %f\"%symptom7_30\n",
    "print \"The probability that a CCAR with SYMPTOM_SEVERITY < 3 is followed by a claim within 30 days is %f\"%symptom3_30"
   ]
  },
  {
   "cell_type": "markdown",
   "metadata": {},
   "source": [
    "#### Question 6 (1 pt):"
   ]
  },
  {
   "cell_type": "markdown",
   "metadata": {},
   "source": [
    "Compute the 95% confidence intervals of the proportions you found in Question 5 to assess whether those two proportions are significantly different from each other. The last section of the notebook shows how to compute the confidence interval of a proportion. Briefly discuss what your results suggest."
   ]
  },
  {
   "cell_type": "code",
   "execution_count": 31,
   "metadata": {
    "collapsed": false
   },
   "outputs": [
    {
     "name": "stdout",
     "output_type": "stream",
     "text": [
      "The 95% confidence intervals for the first proportion is (0.001540,0.003521)\n",
      "The 95% confidence intervals for the second proportion is (0.002371,0.004714)\n"
     ]
    }
   ],
   "source": [
    "import statsmodels.stats.proportion\n",
    "prop1 = ((df['DAYS_TO_SERVICE'] <= '30 days') & (df['CLAIM'] == True) & (df['SYMPTOM_SEVERITY'] > 7)).sum()\n",
    "prop2 = ((df['DAYS_TO_SERVICE'] <= '30 days') & (df['CLAIM'] == True) & (df['SYMPTOM_SEVERITY'] < 3)).sum()\n",
    "total = len(df)\n",
    "conf1 = statsmodels.stats.proportion.proportion_confint(count=prop1,nobs=total)\n",
    "conf2 = statsmodels.stats.proportion.proportion_confint(count=prop2,nobs=total)\n",
    "print \"The 95%% confidence intervals for the first proportion is (%f,%f)\"%conf1\n",
    "print \"The 95%% confidence intervals for the second proportion is (%f,%f)\"%conf2"
   ]
  },
  {
   "cell_type": "code",
   "execution_count": 32,
   "metadata": {
    "collapsed": false
   },
   "outputs": [
    {
     "name": "stdout",
     "output_type": "stream",
     "text": [
      "From the confidence intervals above, it appears that the two probabilities are not significantly different from each other since probability 1 lies within the confidence interval of probability 2.\n",
      "\n",
      "This suggests that the probability of a CCAR followed by a claim within 30 days does not significantly vary by how low or high the severity of the symptom is. A high severity symptom has almost similar probability of a claim within 30 days as a low severity symptom.\n"
     ]
    }
   ],
   "source": [
    "print \"From the confidence intervals above, it appears that the two probabilities are not significantly different\\\n",
    " from each other since probability 1 lies within the confidence interval of probability 2.\"\n",
    "print \"\\nThis suggests that the probability of a CCAR followed by a claim within 30 days does not significantly vary by\\\n",
    " how low or high the severity of the symptom is. A high severity symptom has almost similar probability of a claim within\\\n",
    " 30 days as a low severity symptom.\""
   ]
  },
  {
   "cell_type": "markdown",
   "metadata": {},
   "source": [
    "#### Finding the confidence interval of a proportion"
   ]
  },
  {
   "cell_type": "markdown",
   "metadata": {},
   "source": [
    "To find a confidence interval of a proportion, the first thing to do is to install the package <i>statsmodel</i>. Then, consider the following example."
   ]
  },
  {
   "cell_type": "markdown",
   "metadata": {},
   "source": [
    "Example: during the exit polls for a certain election, we interviewed s sample of 40 voters and found that 23 of them voted for candidate A (a proportion of 0.575). What's the confidence interval of this proportion? Is the proportion significantly greater than 0.50?"
   ]
  },
  {
   "cell_type": "code",
   "execution_count": 20,
   "metadata": {
    "collapsed": false
   },
   "outputs": [
    {
     "data": {
      "text/plain": [
       "(0.42180433268960182, 0.72819566731039809)"
      ]
     },
     "execution_count": 20,
     "metadata": {},
     "output_type": "execute_result"
    }
   ],
   "source": [
    "#import statsmodels.stats.proportion\n",
    "statsmodels.stats.proportion.proportion_confint(count=23,nobs=40) # by default, it's a 95% confidence interval"
   ]
  },
  {
   "cell_type": "markdown",
   "metadata": {},
   "source": [
    "The confidence interval is [0.42 - 0.73]. The observed proportion is not significantly higher than 50%."
   ]
  },
  {
   "cell_type": "code",
   "execution_count": null,
   "metadata": {
    "collapsed": true
   },
   "outputs": [],
   "source": []
  }
 ],
 "metadata": {
  "kernelspec": {
   "display_name": "Python 2",
   "language": "python",
   "name": "python2"
  },
  "language_info": {
   "codemirror_mode": {
    "name": "ipython",
    "version": 2
   },
   "file_extension": ".py",
   "mimetype": "text/x-python",
   "name": "python",
   "nbconvert_exporter": "python",
   "pygments_lexer": "ipython2",
   "version": "2.7.11"
  }
 },
 "nbformat": 4,
 "nbformat_minor": 0
}
