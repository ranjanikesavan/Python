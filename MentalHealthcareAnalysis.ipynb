{
 "cells": [
  {
   "cell_type": "markdown",
   "metadata": {
    "deletable": true,
    "editable": true
   },
   "source": [
    "# Final Project"
   ]
  },
  {
   "cell_type": "markdown",
   "metadata": {
    "deletable": true,
    "editable": true
   },
   "source": [
    "<p> This IPython notebook looks at the Mental Health Partners (MHP) Dataset for interesting observations/findings.<br>\n",
    "The files <i>CCARs.xlsx</i> and <i>Services.xlsx</i> are used for the analysis.</p>"
   ]
  },
  {
   "cell_type": "markdown",
   "metadata": {
    "deletable": true,
    "editable": true
   },
   "source": [
    "### Importing the dataset into two dataframes ccars and services"
   ]
  },
  {
   "cell_type": "code",
   "execution_count": 2,
   "metadata": {
    "collapsed": false,
    "deletable": true,
    "editable": true
   },
   "outputs": [
    {
     "name": "stdout",
     "output_type": "stream",
     "text": [
      "Populating the interactive namespace from numpy and matplotlib\n"
     ]
    }
   ],
   "source": [
    "# Importing all required libraries\n",
    "\n",
    "import xlrd\n",
    "import pandas as pd\n",
    "import numpy as np\n",
    "import matplotlib.pyplot as plt\n",
    "import seaborn as sns\n",
    "import sklearn as sk\n",
    "import sklearn.tree as tree\n",
    "from IPython.display import Image\n",
    "import pydotplus\n",
    "import statsmodels.stats.proportion\n",
    "from sklearn import metrics\n",
    "\n",
    "\n",
    "%matplotlib inline\n",
    "%pylab inline"
   ]
  },
  {
   "cell_type": "code",
   "execution_count": 3,
   "metadata": {
    "collapsed": false,
    "deletable": true,
    "editable": true
   },
   "outputs": [],
   "source": [
    "ccars = pd.read_excel('CCARs.xlsx')\n",
    "services = pd.read_excel('Services.xlsx')\n",
    "# the code above will take a long time to run, because the files are large"
   ]
  },
  {
   "cell_type": "markdown",
   "metadata": {
    "deletable": true,
    "editable": true
   },
   "source": [
    "## Summary #1 : \n",
    "1. People who feel hopeless ('HOPE' > 6) are more likely to file a claim within 30 days of a CCAR assessment compared to others ('HOPE' <= 6).\n",
    "2. People aged between 15 and 25 have a higher likelihood (23.6%) of filing a claim within 30 days of a CCAR assessment irrespective of how hopeful they feel compared to people of other ages (13.5%)."
   ]
  },
  {
   "cell_type": "markdown",
   "metadata": {},
   "source": [
    "## Data Cleansing"
   ]
  },
  {
   "cell_type": "code",
   "execution_count": 4,
   "metadata": {
    "collapsed": false,
    "deletable": true,
    "editable": true
   },
   "outputs": [],
   "source": [
    "# Merging the two datasets: ccar and services\n",
    "mergedf = ccars.merge(services,left_on='CLIENT_ID',right_on='CLIENT_ID')"
   ]
  },
  {
   "cell_type": "code",
   "execution_count": 5,
   "metadata": {
    "collapsed": false,
    "deletable": true,
    "editable": true
   },
   "outputs": [],
   "source": [
    "mergedf['DAYS_TO_SERVICE'] = mergedf['SERVICE_DATE'] - mergedf['CCAR_DATE']\n",
    "mergedf['CLAIM'] = (mergedf['SOURCE'] == 'Claim').astype(int)\n",
    "df = mergedf[['CLIENT_ID','HOUSING','LEVEL_OF_FUNCTIONING','SYMPTOM_SEVERITY','HOPE','DAYS_TO_SERVICE',\\\n",
    "             'MBR_AGE','MBR_GENDER','MEDICAID_ELIG_CAT','CLAIM']]\n",
    "#Retaining only rows where DAYS_TO_SERVICE is between 0 and 30\n",
    "df = df[(df['DAYS_TO_SERVICE'] >= '0') & (df['DAYS_TO_SERVICE'] <= '30 days')]\n",
    "#Dropping unwanted columns\n",
    "df.drop(['DAYS_TO_SERVICE','CLIENT_ID'],axis=1,inplace=True)"
   ]
  },
  {
   "cell_type": "markdown",
   "metadata": {},
   "source": [
    "We only consider those data points where there is either a claim or an encounter by a patient within 30 days of a CCAR assessment. We want to build a machine learning model that accurately predicts a claim within 30 days of a CCAR assessment."
   ]
  },
  {
   "cell_type": "code",
   "execution_count": 6,
   "metadata": {
    "collapsed": false,
    "deletable": true,
    "editable": true
   },
   "outputs": [],
   "source": [
    "#Adding dummy columns for categorical variables etc.\n",
    "X = pd.get_dummies(data=df,columns=['MBR_GENDER','MEDICAID_ELIG_CAT',\\\n",
    "                                   'HOUSING'])\n",
    "Y = X.CLAIM\n",
    "X.drop('CLAIM',axis=1,inplace=True)"
   ]
  },
  {
   "cell_type": "markdown",
   "metadata": {},
   "source": [
    "## Validity of the finding"
   ]
  },
  {
   "cell_type": "code",
   "execution_count": 7,
   "metadata": {
    "collapsed": true
   },
   "outputs": [],
   "source": [
    "df['MBR_AGE.BIN'] = pd.cut(df['MBR_AGE'],bins=[0,15,25,35,45,60,75],include_lowest=True)\n",
    "df['HOPELESS'] = (df['HOPE'] > 6).astype(int)"
   ]
  },
  {
   "cell_type": "markdown",
   "metadata": {},
   "source": [
    "The chart below shows that the claims rate for people who feel hopeless ('HOPE' > 6) is higher. Infact the probability of a hopeless person filing a claim is about 20.6% compared to 14.3% for a hopeful person. This is also statistically significant as seen from the confidence intervals. "
   ]
  },
  {
   "cell_type": "code",
   "execution_count": 8,
   "metadata": {
    "collapsed": false
   },
   "outputs": [
    {
     "data": {
      "text/plain": [
       "<seaborn.axisgrid.FacetGrid at 0xce71668>"
      ]
     },
     "execution_count": 8,
     "metadata": {},
     "output_type": "execute_result"
    },
    {
     "data": {
      "image/png": "[encoded data removed]",
      "text/plain": [
       "<matplotlib.figure.Figure at 0xce715c0>"
      ]
     },
     "metadata": {},
     "output_type": "display_data"
    }
   ],
   "source": [
    "sns.factorplot(x='HOPELESS',y='CLAIM',data=df,aspect=1,kind='bar')"
   ]
  },
  {
   "cell_type": "code",
   "execution_count": 9,
   "metadata": {
    "collapsed": false
   },
   "outputs": [
    {
     "name": "stdout",
     "output_type": "stream",
     "text": [
      "512 4555 2490 31778\n",
      "The confidence interval for the probability of a hopeless person filing a claim is (0.189748 , 0.221497)\n",
      "The confidence interval for the probability of a non-hopeless person filing a claim is (0.139485 , 0.147191)\n"
     ]
    }
   ],
   "source": [
    "hopeless = ((df['CLAIM'] == 1) & (df['HOPELESS'] == 1)).sum()\n",
    "hopeful = ((df['CLAIM'] == 1) & (df['HOPELESS'] == 0)).sum()\n",
    "hopelessTotal = ((df['HOPELESS'] == 1)).sum()\n",
    "hopefulTotal = ((df['HOPELESS'] == 0)).sum()\n",
    "print hopeless, hopeful, hopelessTotal, hopefulTotal\n",
    "\n",
    "conf0 = statsmodels.stats.proportion.proportion_confint(count=hopeless,nobs=hopelessTotal)\n",
    "conf1 = statsmodels.stats.proportion.proportion_confint(count=hopeful,nobs=hopefulTotal)\n",
    "print \"The confidence interval for the probability of a hopeless person filing a claim is (%f , %f)\"%conf0\n",
    "print \"The confidence interval for the probability of a non-hopeless person filing a claim is (%f , %f)\"%conf1"
   ]
  },
  {
   "cell_type": "code",
   "execution_count": 10,
   "metadata": {
    "collapsed": false
   },
   "outputs": [
    {
     "data": {
      "text/plain": [
       "<seaborn.axisgrid.FacetGrid at 0x705d3c8>"
      ]
     },
     "execution_count": 10,
     "metadata": {},
     "output_type": "execute_result"
    },
    {
     "data": {
      "image/png": "[encoded data removed]",
      "text/plain": [
       "<matplotlib.figure.Figure at 0xcfaec50>"
      ]
     },
     "metadata": {},
     "output_type": "display_data"
    }
   ],
   "source": [
    "sns.factorplot(y='CLAIM',x='MBR_AGE.BIN',data=df,aspect=2,kind='bar')"
   ]
  },
  {
   "cell_type": "markdown",
   "metadata": {},
   "source": [
    "The chart above shows that people aged between 15 to 25 have a significantly higher probability of filing a claim within 30 days irrespective of how hopeful/hopeless they feel. Infact the probability of a claim within 30 days for this group is 23.6% compared to the rest of the age groups at 13.5%, and this is statistically significant as seen from the confidence intervals."
   ]
  },
  {
   "cell_type": "code",
   "execution_count": 11,
   "metadata": {
    "collapsed": false
   },
   "outputs": [
    {
     "name": "stdout",
     "output_type": "stream",
     "text": [
      "The confidence interval for the probability of a person aged 15 to 25 filing a claim is (0.223724, 0.248598)\n",
      "The confidence interval for the probability of a person in other age groups filing a claim is (0.130709, 0.138460)\n"
     ]
    }
   ],
   "source": [
    "age_15to25 = ((df['MBR_AGE.BIN'] == '(15, 25]') & (df['CLAIM'] == 1)).sum()\n",
    "otherAges = ((df['MBR_AGE.BIN'] != '(15, 25]') & (df['CLAIM'] == 1)).sum()\n",
    "age_15to25Total = ((df['MBR_AGE.BIN'] == '(15, 25]')).sum()\n",
    "otherAgesTotal = ((df['MBR_AGE.BIN'] != '(15, 25]')).sum()\n",
    "\n",
    "conf0 = statsmodels.stats.proportion.proportion_confint(count=age_15to25,nobs=age_15to25Total)\n",
    "conf1 = statsmodels.stats.proportion.proportion_confint(count=otherAges,nobs=otherAgesTotal)\n",
    "print \"The confidence interval for the probability of a person aged 15 to 25 filing a claim is (%f, %f)\"%conf0\n",
    "print \"The confidence interval for the probability of a person in other age groups filing a claim is (%f, %f)\"%conf1"
   ]
  },
  {
   "cell_type": "markdown",
   "metadata": {},
   "source": [
    "## Machine Learning"
   ]
  },
  {
   "cell_type": "code",
   "execution_count": 12,
   "metadata": {
    "collapsed": true,
    "deletable": true,
    "editable": true
   },
   "outputs": [],
   "source": [
    "from sklearn.ensemble import RandomForestClassifier\n",
    "from sklearn.naive_bayes import GaussianNB\n",
    "from sklearn.discriminant_analysis import QuadraticDiscriminantAnalysis\n",
    "from sklearn.neural_network import MLPClassifier\n",
    "from sklearn.ensemble import BaggingClassifier\n",
    "from sklearn.neighbors import KNeighborsClassifier\n",
    "from sklearn.ensemble import AdaBoostClassifier\n",
    "from sklearn.svm import SVC\n",
    "from sklearn.tree import DecisionTreeClassifier\n",
    "\n",
    "clfs = [DecisionTreeClassifier(), sk.ensemble.RandomForestClassifier(n_jobs=-1), sk.naive_bayes.GaussianNB(),\n",
    "        sk.linear_model.LogisticRegression(n_jobs=-1),sk.tree.DecisionTreeClassifier(),sk.ensemble.AdaBoostClassifier(),\n",
    "        QuadraticDiscriminantAnalysis(),MLPClassifier(),SVC()]"
   ]
  },
  {
   "cell_type": "code",
   "execution_count": 13,
   "metadata": {
    "collapsed": false,
    "deletable": true,
    "editable": true
   },
   "outputs": [],
   "source": [
    "from sklearn.model_selection import train_test_split\n",
    "from sklearn.model_selection import KFold\n",
    "from sklearn.model_selection import cross_val_score\n",
    "from sklearn.metrics import roc_auc_score\n",
    "\n",
    "X_train, X_test, Y_train, Y_test = train_test_split(X,Y,test_size = 0.25,random_state=0)"
   ]
  },
  {
   "cell_type": "code",
   "execution_count": 14,
   "metadata": {
    "collapsed": false,
    "deletable": true,
    "editable": true
   },
   "outputs": [
    {
     "name": "stderr",
     "output_type": "stream",
     "text": [
      "C:\\Users\\ronathan\\AppData\\Local\\Enthought\\Canopy\\User\\lib\\site-packages\\sklearn\\discriminant_analysis.py:695: UserWarning: Variables are collinear\n",
      "  warnings.warn(\"Variables are collinear\")\n"
     ]
    },
    {
     "name": "stdout",
     "output_type": "stream",
     "text": [
      "RandomForestClassifier(bootstrap=True, class_weight=None, criterion='gini',\n",
      "            max_depth=None, max_features='auto', max_leaf_nodes=None,\n",
      "            min_impurity_split=1e-07, min_samples_leaf=1,\n",
      "            min_samples_split=2, min_weight_fraction_leaf=0.0,\n",
      "            n_estimators=10, n_jobs=-1, oob_score=False, random_state=None,\n",
      "            verbose=0, warm_start=False)\n",
      "0.937259358796\n"
     ]
    }
   ],
   "source": [
    "maxAUC = -1\n",
    "bestCL = ''\n",
    "for cl in clfs:\n",
    "    kf = KFold(n_splits = 10, random_state = 2, shuffle=True)\n",
    "    cv_auc = cross_val_score(cl,X_train,y=Y_train,scoring='roc_auc',cv=kf).mean()\n",
    "    if cv_auc > maxAUC:\n",
    "        maxAUC = cv_auc\n",
    "        bestCL = cl\n",
    "print bestCL\n",
    "print maxAUC"
   ]
  },
  {
   "cell_type": "markdown",
   "metadata": {},
   "source": [
    "The best classifier is RandomForest with an AUC score of 0.94 for the training data set. To verify if there is any overfitting, we find out what the value is on the test dataset"
   ]
  },
  {
   "cell_type": "code",
   "execution_count": 15,
   "metadata": {
    "collapsed": false,
    "deletable": true,
    "editable": true
   },
   "outputs": [
    {
     "name": "stdout",
     "output_type": "stream",
     "text": [
      "0.947899390146\n"
     ]
    }
   ],
   "source": [
    "bestCL.fit(X_train,Y_train)\n",
    "y_proba = bestCL.predict_proba(X_test)\n",
    "print roc_auc_score(Y_test,y_proba[:,1])"
   ]
  },
  {
   "cell_type": "markdown",
   "metadata": {},
   "source": [
    "We see that the AUC score for the test dataset is 0.94 which is comparable. As the next step, let us list down the features/attributes in the model based on feature importance values to see which feature is the most important."
   ]
  },
  {
   "cell_type": "code",
   "execution_count": 16,
   "metadata": {
    "collapsed": false,
    "deletable": true,
    "editable": true
   },
   "outputs": [
    {
     "data": {
      "text/html": [
       "<div>\n",
       "<table border=\"1\" class=\"dataframe\">\n",
       "  <thead>\n",
       "    <tr style=\"text-align: right;\">\n",
       "      <th></th>\n",
       "      <th>Importances</th>\n",
       "    </tr>\n",
       "  </thead>\n",
       "  <tbody>\n",
       "    <tr>\n",
       "      <th>MBR_AGE</th>\n",
       "      <td>0.411530</td>\n",
       "    </tr>\n",
       "    <tr>\n",
       "      <th>HOPE</th>\n",
       "      <td>0.159809</td>\n",
       "    </tr>\n",
       "    <tr>\n",
       "      <th>LEVEL_OF_FUNCTIONING</th>\n",
       "      <td>0.154156</td>\n",
       "    </tr>\n",
       "    <tr>\n",
       "      <th>SYMPTOM_SEVERITY</th>\n",
       "      <td>0.127731</td>\n",
       "    </tr>\n",
       "    <tr>\n",
       "      <th>MEDICAID_ELIG_CAT_DISABLED</th>\n",
       "      <td>0.021007</td>\n",
       "    </tr>\n",
       "    <tr>\n",
       "      <th>HOUSING_15</th>\n",
       "      <td>0.017039</td>\n",
       "    </tr>\n",
       "    <tr>\n",
       "      <th>MBR_GENDER_Female</th>\n",
       "      <td>0.014587</td>\n",
       "    </tr>\n",
       "    <tr>\n",
       "      <th>MBR_GENDER_Male</th>\n",
       "      <td>0.012274</td>\n",
       "    </tr>\n",
       "    <tr>\n",
       "      <th>HOUSING_12</th>\n",
       "      <td>0.011730</td>\n",
       "    </tr>\n",
       "    <tr>\n",
       "      <th>MEDICAID_ELIG_CAT_AwDC</th>\n",
       "      <td>0.011225</td>\n",
       "    </tr>\n",
       "    <tr>\n",
       "      <th>MEDICAID_ELIG_CAT_ADULT</th>\n",
       "      <td>0.009870</td>\n",
       "    </tr>\n",
       "    <tr>\n",
       "      <th>HOUSING_4</th>\n",
       "      <td>0.006857</td>\n",
       "    </tr>\n",
       "    <tr>\n",
       "      <th>MEDICAID_ELIG_CAT_FOSTER CARE</th>\n",
       "      <td>0.005574</td>\n",
       "    </tr>\n",
       "    <tr>\n",
       "      <th>HOUSING_1</th>\n",
       "      <td>0.004788</td>\n",
       "    </tr>\n",
       "    <tr>\n",
       "      <th>HOUSING_13</th>\n",
       "      <td>0.004759</td>\n",
       "    </tr>\n",
       "    <tr>\n",
       "      <th>HOUSING_2</th>\n",
       "      <td>0.004576</td>\n",
       "    </tr>\n",
       "    <tr>\n",
       "      <th>MEDICAID_ELIG_CAT_CHILD</th>\n",
       "      <td>0.004076</td>\n",
       "    </tr>\n",
       "    <tr>\n",
       "      <th>MEDICAID_ELIG_CAT_OTHER</th>\n",
       "      <td>0.004036</td>\n",
       "    </tr>\n",
       "    <tr>\n",
       "      <th>MEDICAID_ELIG_CAT_ELDERLY</th>\n",
       "      <td>0.002201</td>\n",
       "    </tr>\n",
       "    <tr>\n",
       "      <th>HOUSING_10</th>\n",
       "      <td>0.002056</td>\n",
       "    </tr>\n",
       "    <tr>\n",
       "      <th>HOUSING_9</th>\n",
       "      <td>0.001884</td>\n",
       "    </tr>\n",
       "    <tr>\n",
       "      <th>HOUSING_5</th>\n",
       "      <td>0.001582</td>\n",
       "    </tr>\n",
       "    <tr>\n",
       "      <th>HOUSING_16</th>\n",
       "      <td>0.001311</td>\n",
       "    </tr>\n",
       "    <tr>\n",
       "      <th>HOUSING_3</th>\n",
       "      <td>0.001287</td>\n",
       "    </tr>\n",
       "    <tr>\n",
       "      <th>HOUSING_11</th>\n",
       "      <td>0.001229</td>\n",
       "    </tr>\n",
       "    <tr>\n",
       "      <th>HOUSING_7</th>\n",
       "      <td>0.001029</td>\n",
       "    </tr>\n",
       "    <tr>\n",
       "      <th>HOUSING_14</th>\n",
       "      <td>0.000870</td>\n",
       "    </tr>\n",
       "    <tr>\n",
       "      <th>HOUSING_8</th>\n",
       "      <td>0.000657</td>\n",
       "    </tr>\n",
       "    <tr>\n",
       "      <th>HOUSING_6</th>\n",
       "      <td>0.000241</td>\n",
       "    </tr>\n",
       "    <tr>\n",
       "      <th>MBR_GENDER_Unknown</th>\n",
       "      <td>0.000032</td>\n",
       "    </tr>\n",
       "  </tbody>\n",
       "</table>\n",
       "</div>"
      ],
      "text/plain": [
       "                               Importances\n",
       "MBR_AGE                           0.411530\n",
       "HOPE                              0.159809\n",
       "LEVEL_OF_FUNCTIONING              0.154156\n",
       "SYMPTOM_SEVERITY                  0.127731\n",
       "MEDICAID_ELIG_CAT_DISABLED        0.021007\n",
       "HOUSING_15                        0.017039\n",
       "MBR_GENDER_Female                 0.014587\n",
       "MBR_GENDER_Male                   0.012274\n",
       "HOUSING_12                        0.011730\n",
       "MEDICAID_ELIG_CAT_AwDC            0.011225\n",
       "MEDICAID_ELIG_CAT_ADULT           0.009870\n",
       "HOUSING_4                         0.006857\n",
       "MEDICAID_ELIG_CAT_FOSTER CARE     0.005574\n",
       "HOUSING_1                         0.004788\n",
       "HOUSING_13                        0.004759\n",
       "HOUSING_2                         0.004576\n",
       "MEDICAID_ELIG_CAT_CHILD           0.004076\n",
       "MEDICAID_ELIG_CAT_OTHER           0.004036\n",
       "MEDICAID_ELIG_CAT_ELDERLY         0.002201\n",
       "HOUSING_10                        0.002056\n",
       "HOUSING_9                         0.001884\n",
       "HOUSING_5                         0.001582\n",
       "HOUSING_16                        0.001311\n",
       "HOUSING_3                         0.001287\n",
       "HOUSING_11                        0.001229\n",
       "HOUSING_7                         0.001029\n",
       "HOUSING_14                        0.000870\n",
       "HOUSING_8                         0.000657\n",
       "HOUSING_6                         0.000241\n",
       "MBR_GENDER_Unknown                0.000032"
      ]
     },
     "execution_count": 16,
     "metadata": {},
     "output_type": "execute_result"
    }
   ],
   "source": [
    "importances = bestCL.feature_importances_\n",
    "imp1 = pd.DataFrame(importances,X.columns,['Importances']).sort_values('Importances',ascending=False)\n",
    "imp1[imp1['Importances'] > 0]"
   ]
  },
  {
   "cell_type": "markdown",
   "metadata": {},
   "source": [
    "From this table, we can see that the Age and Hope are two of the top attributes identified by the machine learning model. We use this as a starting point to see how the likelihood of claims within 30 days vary with respect to Age and Hope levels."
   ]
  },
  {
   "cell_type": "markdown",
   "metadata": {
    "deletable": true,
    "editable": true
   },
   "source": [
    "## Summary #2 : The average cost of a claim for Opioid Depedence (SUD) is only $18, so clients prefer IPNs, specifically BHG Longmont over MHP"
   ]
  },
  {
   "cell_type": "markdown",
   "metadata": {},
   "source": [
    "## Data Cleansing"
   ]
  },
  {
   "cell_type": "code",
   "execution_count": 17,
   "metadata": {
    "collapsed": false,
    "deletable": true,
    "editable": true
   },
   "outputs": [],
   "source": [
    "# Adding columns to the SERVICES dataset\n",
    "services['CLAIM'] = (services['SOURCE'] == 'Claim').astype(int)\n",
    "services['CHARGED_AMT_ENC'] = np.where(services['CLAIM']==0, services['CHARGED_AMT'], np.NaN)\n",
    "services['CHARGED_AMT_CLAIM'] = np.where(services['CLAIM']==1, services['CHARGED_AMT'], np.NaN)\n",
    "\n",
    "# Creating a new dataframe with dummy columns for building decision tree\n",
    "services1 = pd.get_dummies(data=services,columns=['MBR_GENDER','SERVICE_TYPE','MEDICAID_ELIG_CAT',\\\n",
    "                                                'DIAGNOSIS'])\n",
    "\n",
    "# Dropping unwanted columns in services1\n",
    "services1.drop(['CLIENT_ID','SERVICE_DATE','SERVICE_CODE','SERV_CODE_DESCRP','ADMISSION_DATE','DISCHARGE_DATE','PROVIDER',\\\n",
    "                'PRV_TYP_DESC','PROV_CREDENTIALS','PROV_ZIPCODE','PROV_FLAG','PAID_AMT','SERVICE_DURATION',\\\n",
    "               'SERVICE_UNITS','MBR_ZIPCODE','SOURCE','CHARGED_AMT_CLAIM','CHARGED_AMT_ENC',\\\n",
    "               'MBR_PRIMARY_LANGUAGE'], inplace=True,axis=1)\n",
    "X = services1.drop(['CLAIM','CHARGED_AMT'],axis=1)\n",
    "Y = services1.CLAIM\n",
    "X.replace(' ',np.NaN,inplace=True)"
   ]
  },
  {
   "cell_type": "markdown",
   "metadata": {
    "deletable": true,
    "editable": true
   },
   "source": [
    "## Validity of the finding"
   ]
  },
  {
   "cell_type": "markdown",
   "metadata": {
    "deletable": true,
    "editable": true
   },
   "source": [
    "From the dataset it can be seen that the volume of claims falling under SUD type services is significantly higher contributing to higher percentage of claims overall. Drilling down further within SUD service type, we see the diagnosis that's contributing to higher percentage of claims and the corresponding average costs associated with the service. The table below shows the top 5 diagnosis that falls under SUD service, the number of encounters and claims for these diagnosis and their corresponding costs."
   ]
  },
  {
   "cell_type": "code",
   "execution_count": 18,
   "metadata": {
    "collapsed": false,
    "deletable": true,
    "editable": true
   },
   "outputs": [
    {
     "data": {
      "text/html": [
       "<div>\n",
       "<table border=\"1\" class=\"dataframe\">\n",
       "  <thead>\n",
       "    <tr>\n",
       "      <th></th>\n",
       "      <th>DIAGNOSIS</th>\n",
       "      <th colspan=\"2\" halign=\"left\">Encounter</th>\n",
       "      <th>Proportion of Claims</th>\n",
       "      <th colspan=\"2\" halign=\"left\">Claim</th>\n",
       "    </tr>\n",
       "    <tr>\n",
       "      <th></th>\n",
       "      <th></th>\n",
       "      <th>count</th>\n",
       "      <th>mean</th>\n",
       "      <th>mean</th>\n",
       "      <th>count</th>\n",
       "      <th>mean</th>\n",
       "    </tr>\n",
       "  </thead>\n",
       "  <tbody>\n",
       "    <tr>\n",
       "      <th>252</th>\n",
       "      <td>Opioid Dependence, Uncomplicated</td>\n",
       "      <td>2992</td>\n",
       "      <td>154.075201</td>\n",
       "      <td>0.953127</td>\n",
       "      <td>60840</td>\n",
       "      <td>18.757940</td>\n",
       "    </tr>\n",
       "    <tr>\n",
       "      <th>253</th>\n",
       "      <td>Opioid Type Dependence, Continuous</td>\n",
       "      <td>0</td>\n",
       "      <td>NaN</td>\n",
       "      <td>1.000000</td>\n",
       "      <td>7778</td>\n",
       "      <td>16.990494</td>\n",
       "    </tr>\n",
       "    <tr>\n",
       "      <th>39</th>\n",
       "      <td>Alcohol Dependence, Uncomplicated</td>\n",
       "      <td>14855</td>\n",
       "      <td>124.979536</td>\n",
       "      <td>0.195549</td>\n",
       "      <td>3611</td>\n",
       "      <td>70.070770</td>\n",
       "    </tr>\n",
       "    <tr>\n",
       "      <th>331</th>\n",
       "      <td>Post-Traumatic Stress Disorder, Unspecified</td>\n",
       "      <td>17415</td>\n",
       "      <td>215.550991</td>\n",
       "      <td>0.125358</td>\n",
       "      <td>2496</td>\n",
       "      <td>290.395329</td>\n",
       "    </tr>\n",
       "    <tr>\n",
       "      <th>191</th>\n",
       "      <td>Illness, Unspecified</td>\n",
       "      <td>1890</td>\n",
       "      <td>156.717497</td>\n",
       "      <td>0.549786</td>\n",
       "      <td>2308</td>\n",
       "      <td>159.243263</td>\n",
       "    </tr>\n",
       "  </tbody>\n",
       "</table>\n",
       "</div>"
      ],
      "text/plain": [
       "                                       DIAGNOSIS Encounter              \\\n",
       "                                                     count        mean   \n",
       "252             Opioid Dependence, Uncomplicated      2992  154.075201   \n",
       "253           Opioid Type Dependence, Continuous         0         NaN   \n",
       "39             Alcohol Dependence, Uncomplicated     14855  124.979536   \n",
       "331  Post-Traumatic Stress Disorder, Unspecified     17415  215.550991   \n",
       "191                         Illness, Unspecified      1890  156.717497   \n",
       "\n",
       "    Proportion of Claims  Claim              \n",
       "                    mean  count        mean  \n",
       "252             0.953127  60840   18.757940  \n",
       "253             1.000000   7778   16.990494  \n",
       "39              0.195549   3611   70.070770  \n",
       "331             0.125358   2496  290.395329  \n",
       "191             0.549786   2308  159.243263  "
      ]
     },
     "execution_count": 18,
     "metadata": {},
     "output_type": "execute_result"
    }
   ],
   "source": [
    "diag = services.groupby('DIAGNOSIS',as_index=False)['CHARGED_AMT_ENC','CHARGED_AMT_CLAIM','CLAIM']\\\n",
    ".agg({'CHARGED_AMT_ENC' : {'Encounter' : {'count','mean'}},'CHARGED_AMT_CLAIM' : {'Claim' : {'count','mean'}},\\\n",
    "     'CLAIM' : {'Proportion of Claims' : {'mean'}}})\n",
    "diag.sort_values([('Claim', 'count')],ascending=False).head(5)"
   ]
  },
  {
   "cell_type": "code",
   "execution_count": 19,
   "metadata": {
    "collapsed": false
   },
   "outputs": [
    {
     "name": "stdout",
     "output_type": "stream",
     "text": [
      "The correlation between the average cost of claims for a diagnosis and the proportion of claims for the diagnosis is -0.294454\n",
      "The negative correlation indicates there is a general tendency to go for a claim if the costs are not as high\n"
     ]
    }
   ],
   "source": [
    "#Considering diagnosis where there are at least 100 claims to get rid of outliers\n",
    "diag = diag[(diag[('Claim','count')] >= 100)]\n",
    "corr = diag[('Proportion of Claims','mean')].corr(diag[('Claim','mean')])\n",
    "print \"The correlation between the average cost of claims for a diagnosis and the proportion of claims for the diagnosis is %f\"%corr\n",
    "print \"The negative correlation indicates there is a general tendency to go for a claim if the costs are not as high\""
   ]
  },
  {
   "cell_type": "markdown",
   "metadata": {
    "deletable": true,
    "editable": true
   },
   "source": [
    "It can be seen from the table above that the Opioid Dependence tops the chart with as many as 60,840 claims which is more than 50% of all claims. Furthermore, the average cost of such claims is only about \\$18 which is not very expensive compared to other claims. This can be seen from the graph below where the cost of claims for \"Opioid Dependence, Uncomplicated\" is much lower than the cost of claims for all other services. Correspondingly, as the average cost of claims increase from \\$18 to \\$70 and above for Alcohol Dependence, PTST etc. the corresponding claims to encounters ratio also decreases which is indicated by the negative correlation. "
   ]
  },
  {
   "cell_type": "code",
   "execution_count": 20,
   "metadata": {
    "collapsed": false,
    "deletable": true,
    "editable": true
   },
   "outputs": [
    {
     "data": {
      "text/plain": [
       "<seaborn.axisgrid.FacetGrid at 0xd05c828>"
      ]
     },
     "execution_count": 20,
     "metadata": {},
     "output_type": "execute_result"
    },
    {
     "data": {
      "image/png": "[encoded data removed]",
      "text/plain": [
       "<matplotlib.figure.Figure at 0x119a1cc0>"
      ]
     },
     "metadata": {},
     "output_type": "display_data"
    }
   ],
   "source": [
    "sns.factorplot(y='CHARGED_AMT',x='DIAGNOSIS_Opioid Dependence, Uncomplicated',hue='CLAIM',\\\n",
    "              data=services1,aspect=1,kind='bar')"
   ]
  },
  {
   "cell_type": "markdown",
   "metadata": {
    "collapsed": false,
    "deletable": true,
    "editable": true
   },
   "source": [
    "It appears that these clients prefer other healthcare providers (IPNs) (even though they have to pay out of pocket upfront) since the service is not as expensive. To drill down further as to which service provider is sought after by these clients, we look into the top healthcare providers that service clients with Opioid dependence. From the table below, it is clear that clients are mostly served by BHG Longmont leaving MHP (in-network provider) at a distant fifth place."
   ]
  },
  {
   "cell_type": "code",
   "execution_count": 21,
   "metadata": {
    "collapsed": false,
    "deletable": true,
    "editable": true
   },
   "outputs": [
    {
     "data": {
      "text/html": [
       "<div>\n",
       "<table border=\"1\" class=\"dataframe\">\n",
       "  <thead>\n",
       "    <tr style=\"text-align: right;\">\n",
       "      <th></th>\n",
       "      <th>Avg. Charge</th>\n",
       "      <th>Services</th>\n",
       "    </tr>\n",
       "    <tr>\n",
       "      <th>PROVIDER</th>\n",
       "      <th></th>\n",
       "      <th></th>\n",
       "    </tr>\n",
       "  </thead>\n",
       "  <tbody>\n",
       "    <tr>\n",
       "      <th>BHG LONGMONT TREATMENT CENTER</th>\n",
       "      <td>15.832674</td>\n",
       "      <td>41972</td>\n",
       "    </tr>\n",
       "    <tr>\n",
       "      <th>BHG WESTMINSTER TREATMENT CENTER</th>\n",
       "      <td>15.388048</td>\n",
       "      <td>9321</td>\n",
       "    </tr>\n",
       "    <tr>\n",
       "      <th>REGENTS OF THE UNIVERSITY OF COLORA</th>\n",
       "      <td>14.594563</td>\n",
       "      <td>4284</td>\n",
       "    </tr>\n",
       "    <tr>\n",
       "      <th>DENVER HEALTH MEDICAL CENTER</th>\n",
       "      <td>55.781761</td>\n",
       "      <td>3435</td>\n",
       "    </tr>\n",
       "    <tr>\n",
       "      <th>MENTAL HEALTH PARTNERS</th>\n",
       "      <td>154.083584</td>\n",
       "      <td>2991</td>\n",
       "    </tr>\n",
       "  </tbody>\n",
       "</table>\n",
       "</div>"
      ],
      "text/plain": [
       "                                     Avg. Charge  Services\n",
       "PROVIDER                                                  \n",
       "BHG LONGMONT TREATMENT CENTER          15.832674     41972\n",
       "BHG WESTMINSTER TREATMENT CENTER       15.388048      9321\n",
       "REGENTS OF THE UNIVERSITY OF COLORA    14.594563      4284\n",
       "DENVER HEALTH MEDICAL CENTER           55.781761      3435\n",
       "MENTAL HEALTH PARTNERS                154.083584      2991"
      ]
     },
     "execution_count": 21,
     "metadata": {},
     "output_type": "execute_result"
    }
   ],
   "source": [
    "services[services['DIAGNOSIS'] == 'Opioid Dependence, Uncomplicated'].groupby('PROVIDER')['CLIENT_ID','CHARGED_AMT']\\\n",
    ".agg({'CLIENT_ID' : {'Services' : 'count'}, 'CHARGED_AMT' : {'Avg. Charge' : 'mean'}})\\\n",
    ".nlargest(5,'Services',keep='first')"
   ]
  },
  {
   "cell_type": "markdown",
   "metadata": {
    "deletable": true,
    "editable": true
   },
   "source": [
    "### Recommendation to Management"
   ]
  },
  {
   "cell_type": "markdown",
   "metadata": {
    "deletable": true,
    "editable": true
   },
   "source": [
    " One recommendation to MHP management is to explore the possibility of partnering with BHG such that clients can avail in-network service at these treatment centers and reduce the overhead of claims processing and reimbursements."
   ]
  },
  {
   "cell_type": "markdown",
   "metadata": {
    "collapsed": false,
    "deletable": true,
    "editable": true
   },
   "source": [
    "## Machine Learning"
   ]
  },
  {
   "cell_type": "markdown",
   "metadata": {
    "deletable": true,
    "editable": true
   },
   "source": [
    "The above finding was detected by building the following decision tree based on the SERVICES dataset. A seen below, the first split is based on \"Opioid Dependence, Uncomplicated\". Hence, I decided to explore the role of this attribute further to understand what influences clients with this condition to go for IPNs."
   ]
  },
  {
   "cell_type": "code",
   "execution_count": 22,
   "metadata": {
    "collapsed": false,
    "deletable": true,
    "editable": true
   },
   "outputs": [
    {
     "data": {
      "image/png": "[encoded data removed]",
      "text/plain": [
       "<IPython.core.display.Image object>"
      ]
     },
     "execution_count": 22,
     "metadata": {},
     "output_type": "execute_result"
    }
   ],
   "source": [
    "dt = tree.DecisionTreeClassifier(max_depth=2)\n",
    "dt.fit(X,Y)\n",
    "\n",
    "dt_feature_names = list(X.columns)\n",
    "dt_target_names = np.array(Y.unique(),dtype=np.string_) \n",
    "tree.export_graphviz(dt, out_file='tree.dot', \n",
    "    feature_names=dt_feature_names, class_names=dt_target_names,\n",
    "    filled=True)  \n",
    "graph = pydotplus.graph_from_dot_file('tree.dot')\n",
    "Image(graph.create_png())"
   ]
  }
 ],
 "metadata": {
  "kernelspec": {
   "display_name": "Python 2",
   "language": "python",
   "name": "python2"
  },
  "language_info": {
   "codemirror_mode": {
    "name": "ipython",
    "version": 2
   },
   "file_extension": ".py",
   "mimetype": "text/x-python",
   "name": "python",
   "nbconvert_exporter": "python",
   "pygments_lexer": "ipython2",
   "version": "2.7.11"
  }
 },
 "nbformat": 4,
 "nbformat_minor": 0
}
